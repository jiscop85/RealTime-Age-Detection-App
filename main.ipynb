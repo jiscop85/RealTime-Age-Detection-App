import cv2
import numpy as np
import tensorflow as tf
from tensorflow.keras.models import model_from_json
import tkinter as tk
from tkinter import messagebox
from PIL import Image, ImageTk
import threading
import time

# Constants
AGE_BUCKETS = ["Middle", "Young", "Old"]
FRAME_WIDTH, FRAME_HEIGHT = 640, 480

# Global Variables
running = False  # Control flag for running detection
cap = None       # Placeholder for video capture object

# Load Model with Exception Handling
def load_model(json_path, weights_path):
    try:
        with open(json_path, 'r') as json_file:
            model_json = json_file.read()
        model = model_from_json(model_json)
        model.load_weights(weights_path)
        return model
    except Exception as e:
        messagebox.showerror("Error", f"Failed to load model: {e}")
        return None

# Initialize Age Model
age_model = load_model('model.json', 'model_weights.weights.h5')
if not age_model:
    exit()  # Exit if model fails to load

# Face Detection
def detect_faces(image):
    face_cascade = cv2.CascadeClassifier(cv2.data.haarcascades + 'haarcascade_frontalface_default.xml')
    gray = cv2.cvtColor(image, cv2.COLOR_BGR2GRAY)
    faces = face_cascade.detectMultiScale(gray, scaleFactor=1.1, minNeighbors=5, minSize=(30, 30))
    return faces

# Preprocess Face for Model Prediction
def preprocess_face(face):
    face_resized = cv2.resize(face, (128, 128))
    face_normalized = face_resized / 255.0
    return np.expand_dims(face_normalized, axis=0)

# Predict Age
def predict_age(face):
    face_array = preprocess_face(face)
    age_prediction = age_model.predict(face_array)
    return AGE_BUCKETS[np.argmax(age_prediction)]

# Video Capture Thread
def video_capture_thread():
    global cap, running
    while running:
        ret, frame = cap.read()
        if ret:
            display_frame(frame)
        time.sleep(0.03)  # Reduces CPU usage

# Display Frame on Tkinter Panel
def display_frame(frame):
    faces = detect_faces(frame)
    for (x, y, w, h) in faces:
        face = frame[y:y+h, x:x+w]
        age = predict_age(face)
        cv2.rectangle(frame, (x, y), (x+w, y+h), (255, 0, 0), 2)
        cv2.putText(frame, f'Age: {age}', (x, y - 10), cv2.FONT_HERSHEY_SIMPLEX, 0.8, (255, 0, 0), 2)

    frame_resized = cv2.resize(frame, (FRAME_WIDTH, FRAME_HEIGHT))
    frame_rgb = cv2.cvtColor(frame_resized, cv2.COLOR_BGR2RGB)
    img = Image.fromarray(frame_rgb)
    img_tk = ImageTk.PhotoImage(image=img)

    panel.img_tk = img_tk  # Prevent garbage collection
    panel.configure(image=img_tk)

# Start/Stop Detection Control
def start_detection():
    global running, cap
    if running:
        return
    cap = cv2.VideoCapture(0)
    if not cap.isOpened():
        messagebox.showerror("Error", "Failed to access the camera.")
        return
    running = True
    threading.Thread(target=video_capture_thread, daemon=True).start()

def stop_detection():
    global running, cap
    running = False
    if cap:
        cap.release()

# GUI Setup
root = tk.Tk()
root.title("Age Detection App")
root.geometry("700x550")

# UI Elements
title_label = tk.Label(root, text="Age Detection Application", font=("Helvetica", 20), fg="blue")
title_label.pack(pady=(10, 0))

frame = tk.Frame(root)
frame.pack(padx=10, pady=10)

panel = tk.Label(frame)
panel.pack()

button_frame = tk.Frame(root)
button_frame.pack(pady=10)

start_button = tk.Button(button_frame, text="Start Detection", command=start_detection, bg="green", fg="white", width=15)
start_button.pack(side=tk.LEFT, padx=10)

stop_button = tk.Button(button_frame, text="Stop Detection", command=stop_detection, bg="red", fg="white", width=15)
stop_button.pack(side=tk.LEFT, padx=10)

# Proper Exit Handling
def on_closing():
    stop_detection()
    root.quit()
    root.destroy()

root.protocol("WM_DELETE_WINDOW", on_closing)

# Run Main Loop
root.mainloop()

# Release Video Capture and Close OpenCV Windows on Exit
if cap:
    cap.release()
cv2.destroyAllWindows()
